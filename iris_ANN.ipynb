{
  "nbformat": 4,
  "nbformat_minor": 0,
  "metadata": {
    "colab": {
      "name": "iris_ANN.ipynb",
      "provenance": []
    },
    "kernelspec": {
      "name": "python3",
      "display_name": "Python 3"
    },
    "language_info": {
      "name": "python"
    }
  },
  "cells": [
    {
      "cell_type": "code",
      "metadata": {
        "colab": {
          "base_uri": "https://localhost:8080/"
        },
        "id": "MqbOwHzqfh2N",
        "outputId": "6382b3b7-dd0a-4bce-8017-67a55a230a44"
      },
      "source": [
        "\n",
        "from google.colab import drive\n",
        "drive.mount('/content/drive')"
      ],
      "execution_count": 1,
      "outputs": [
        {
          "output_type": "stream",
          "text": [
            "Mounted at /content/drive\n"
          ],
          "name": "stdout"
        }
      ]
    },
    {
      "cell_type": "code",
      "metadata": {
        "id": "vugTixqCfifh"
      },
      "source": [
        "import numpy as np\n",
        "import pandas as pd\n",
        "import os\n",
        "import matplotlib.pyplot as plt\n",
        "%matplotlib inline\n",
        "import seaborn as sns\n",
        "import mpl_toolkits\n",
        "from IPython.display import display\n",
        "import warnings"
      ],
      "execution_count": 2,
      "outputs": []
    },
    {
      "cell_type": "code",
      "metadata": {
        "colab": {
          "base_uri": "https://localhost:8080/",
          "height": 195
        },
        "id": "64iLUcKYfirW",
        "outputId": "e3b727de-7f79-43fa-a21e-9251ea73f2fe"
      },
      "source": [
        "data = pd.read_csv('/content/drive/My Drive/Artificial_neural_network/IRIS.csv')\n",
        "data.head()"
      ],
      "execution_count": 74,
      "outputs": [
        {
          "output_type": "execute_result",
          "data": {
            "text/html": [
              "<div>\n",
              "<style scoped>\n",
              "    .dataframe tbody tr th:only-of-type {\n",
              "        vertical-align: middle;\n",
              "    }\n",
              "\n",
              "    .dataframe tbody tr th {\n",
              "        vertical-align: top;\n",
              "    }\n",
              "\n",
              "    .dataframe thead th {\n",
              "        text-align: right;\n",
              "    }\n",
              "</style>\n",
              "<table border=\"1\" class=\"dataframe\">\n",
              "  <thead>\n",
              "    <tr style=\"text-align: right;\">\n",
              "      <th></th>\n",
              "      <th>sepal_length</th>\n",
              "      <th>sepal_width</th>\n",
              "      <th>petal_length</th>\n",
              "      <th>petal_width</th>\n",
              "      <th>species</th>\n",
              "    </tr>\n",
              "  </thead>\n",
              "  <tbody>\n",
              "    <tr>\n",
              "      <th>0</th>\n",
              "      <td>5.1</td>\n",
              "      <td>3.5</td>\n",
              "      <td>1.4</td>\n",
              "      <td>0.2</td>\n",
              "      <td>Iris-setosa</td>\n",
              "    </tr>\n",
              "    <tr>\n",
              "      <th>1</th>\n",
              "      <td>4.9</td>\n",
              "      <td>3.0</td>\n",
              "      <td>1.4</td>\n",
              "      <td>0.2</td>\n",
              "      <td>Iris-setosa</td>\n",
              "    </tr>\n",
              "    <tr>\n",
              "      <th>2</th>\n",
              "      <td>4.7</td>\n",
              "      <td>3.2</td>\n",
              "      <td>1.3</td>\n",
              "      <td>0.2</td>\n",
              "      <td>Iris-setosa</td>\n",
              "    </tr>\n",
              "    <tr>\n",
              "      <th>3</th>\n",
              "      <td>4.6</td>\n",
              "      <td>3.1</td>\n",
              "      <td>1.5</td>\n",
              "      <td>0.2</td>\n",
              "      <td>Iris-setosa</td>\n",
              "    </tr>\n",
              "    <tr>\n",
              "      <th>4</th>\n",
              "      <td>5.0</td>\n",
              "      <td>3.6</td>\n",
              "      <td>1.4</td>\n",
              "      <td>0.2</td>\n",
              "      <td>Iris-setosa</td>\n",
              "    </tr>\n",
              "  </tbody>\n",
              "</table>\n",
              "</div>"
            ],
            "text/plain": [
              "   sepal_length  sepal_width  petal_length  petal_width      species\n",
              "0           5.1          3.5           1.4          0.2  Iris-setosa\n",
              "1           4.9          3.0           1.4          0.2  Iris-setosa\n",
              "2           4.7          3.2           1.3          0.2  Iris-setosa\n",
              "3           4.6          3.1           1.5          0.2  Iris-setosa\n",
              "4           5.0          3.6           1.4          0.2  Iris-setosa"
            ]
          },
          "metadata": {
            "tags": []
          },
          "execution_count": 74
        }
      ]
    },
    {
      "cell_type": "code",
      "metadata": {
        "colab": {
          "base_uri": "https://localhost:8080/"
        },
        "id": "AKyChbJqhPgh",
        "outputId": "3609067f-a249-41f6-e510-2cdeddce9f28"
      },
      "source": [
        "data.groupby('species').size()"
      ],
      "execution_count": 75,
      "outputs": [
        {
          "output_type": "execute_result",
          "data": {
            "text/plain": [
              "species\n",
              "Iris-setosa        50\n",
              "Iris-versicolor    50\n",
              "Iris-virginica     50\n",
              "dtype: int64"
            ]
          },
          "metadata": {
            "tags": []
          },
          "execution_count": 75
        }
      ]
    },
    {
      "cell_type": "code",
      "metadata": {
        "id": "Xa6IoqXkhPqG"
      },
      "source": [
        "data.loc[data['species']=='Iris-setosa','species']=0\n",
        "data.loc[data['species']=='Iris-versicolor','species']=1\n",
        "data.loc[data['species']=='Iris-virginica','species']=2\n"
      ],
      "execution_count": 76,
      "outputs": []
    },
    {
      "cell_type": "code",
      "metadata": {
        "colab": {
          "base_uri": "https://localhost:8080/",
          "height": 195
        },
        "id": "MOD2n8V3iLrb",
        "outputId": "6664f9f2-4501-43ba-bae0-c412f0cc1ec6"
      },
      "source": [
        "data.head()"
      ],
      "execution_count": 77,
      "outputs": [
        {
          "output_type": "execute_result",
          "data": {
            "text/html": [
              "<div>\n",
              "<style scoped>\n",
              "    .dataframe tbody tr th:only-of-type {\n",
              "        vertical-align: middle;\n",
              "    }\n",
              "\n",
              "    .dataframe tbody tr th {\n",
              "        vertical-align: top;\n",
              "    }\n",
              "\n",
              "    .dataframe thead th {\n",
              "        text-align: right;\n",
              "    }\n",
              "</style>\n",
              "<table border=\"1\" class=\"dataframe\">\n",
              "  <thead>\n",
              "    <tr style=\"text-align: right;\">\n",
              "      <th></th>\n",
              "      <th>sepal_length</th>\n",
              "      <th>sepal_width</th>\n",
              "      <th>petal_length</th>\n",
              "      <th>petal_width</th>\n",
              "      <th>species</th>\n",
              "    </tr>\n",
              "  </thead>\n",
              "  <tbody>\n",
              "    <tr>\n",
              "      <th>0</th>\n",
              "      <td>5.1</td>\n",
              "      <td>3.5</td>\n",
              "      <td>1.4</td>\n",
              "      <td>0.2</td>\n",
              "      <td>0</td>\n",
              "    </tr>\n",
              "    <tr>\n",
              "      <th>1</th>\n",
              "      <td>4.9</td>\n",
              "      <td>3.0</td>\n",
              "      <td>1.4</td>\n",
              "      <td>0.2</td>\n",
              "      <td>0</td>\n",
              "    </tr>\n",
              "    <tr>\n",
              "      <th>2</th>\n",
              "      <td>4.7</td>\n",
              "      <td>3.2</td>\n",
              "      <td>1.3</td>\n",
              "      <td>0.2</td>\n",
              "      <td>0</td>\n",
              "    </tr>\n",
              "    <tr>\n",
              "      <th>3</th>\n",
              "      <td>4.6</td>\n",
              "      <td>3.1</td>\n",
              "      <td>1.5</td>\n",
              "      <td>0.2</td>\n",
              "      <td>0</td>\n",
              "    </tr>\n",
              "    <tr>\n",
              "      <th>4</th>\n",
              "      <td>5.0</td>\n",
              "      <td>3.6</td>\n",
              "      <td>1.4</td>\n",
              "      <td>0.2</td>\n",
              "      <td>0</td>\n",
              "    </tr>\n",
              "  </tbody>\n",
              "</table>\n",
              "</div>"
            ],
            "text/plain": [
              "   sepal_length  sepal_width  petal_length  petal_width species\n",
              "0           5.1          3.5           1.4          0.2       0\n",
              "1           4.9          3.0           1.4          0.2       0\n",
              "2           4.7          3.2           1.3          0.2       0\n",
              "3           4.6          3.1           1.5          0.2       0\n",
              "4           5.0          3.6           1.4          0.2       0"
            ]
          },
          "metadata": {
            "tags": []
          },
          "execution_count": 77
        }
      ]
    },
    {
      "cell_type": "code",
      "metadata": {
        "colab": {
          "base_uri": "https://localhost:8080/",
          "height": 195
        },
        "id": "n1duYBGSjXfY",
        "outputId": "66bc10ca-cfa1-4f70-bc6a-4e1061774f30"
      },
      "source": [
        "data = data.iloc[np.random.permutation(len(data))]\n",
        "data.head()"
      ],
      "execution_count": 78,
      "outputs": [
        {
          "output_type": "execute_result",
          "data": {
            "text/html": [
              "<div>\n",
              "<style scoped>\n",
              "    .dataframe tbody tr th:only-of-type {\n",
              "        vertical-align: middle;\n",
              "    }\n",
              "\n",
              "    .dataframe tbody tr th {\n",
              "        vertical-align: top;\n",
              "    }\n",
              "\n",
              "    .dataframe thead th {\n",
              "        text-align: right;\n",
              "    }\n",
              "</style>\n",
              "<table border=\"1\" class=\"dataframe\">\n",
              "  <thead>\n",
              "    <tr style=\"text-align: right;\">\n",
              "      <th></th>\n",
              "      <th>sepal_length</th>\n",
              "      <th>sepal_width</th>\n",
              "      <th>petal_length</th>\n",
              "      <th>petal_width</th>\n",
              "      <th>species</th>\n",
              "    </tr>\n",
              "  </thead>\n",
              "  <tbody>\n",
              "    <tr>\n",
              "      <th>29</th>\n",
              "      <td>4.7</td>\n",
              "      <td>3.2</td>\n",
              "      <td>1.6</td>\n",
              "      <td>0.2</td>\n",
              "      <td>0</td>\n",
              "    </tr>\n",
              "    <tr>\n",
              "      <th>107</th>\n",
              "      <td>7.3</td>\n",
              "      <td>2.9</td>\n",
              "      <td>6.3</td>\n",
              "      <td>1.8</td>\n",
              "      <td>2</td>\n",
              "    </tr>\n",
              "    <tr>\n",
              "      <th>126</th>\n",
              "      <td>6.2</td>\n",
              "      <td>2.8</td>\n",
              "      <td>4.8</td>\n",
              "      <td>1.8</td>\n",
              "      <td>2</td>\n",
              "    </tr>\n",
              "    <tr>\n",
              "      <th>37</th>\n",
              "      <td>4.9</td>\n",
              "      <td>3.1</td>\n",
              "      <td>1.5</td>\n",
              "      <td>0.1</td>\n",
              "      <td>0</td>\n",
              "    </tr>\n",
              "    <tr>\n",
              "      <th>60</th>\n",
              "      <td>5.0</td>\n",
              "      <td>2.0</td>\n",
              "      <td>3.5</td>\n",
              "      <td>1.0</td>\n",
              "      <td>1</td>\n",
              "    </tr>\n",
              "  </tbody>\n",
              "</table>\n",
              "</div>"
            ],
            "text/plain": [
              "     sepal_length  sepal_width  petal_length  petal_width species\n",
              "29            4.7          3.2           1.6          0.2       0\n",
              "107           7.3          2.9           6.3          1.8       2\n",
              "126           6.2          2.8           4.8          1.8       2\n",
              "37            4.9          3.1           1.5          0.1       0\n",
              "60            5.0          2.0           3.5          1.0       1"
            ]
          },
          "metadata": {
            "tags": []
          },
          "execution_count": 78
        }
      ]
    },
    {
      "cell_type": "code",
      "metadata": {
        "id": "Vyl3zYjCfitW"
      },
      "source": [
        "x = data.iloc[:, :4].values\n",
        "y = data.iloc[:, 4].values"
      ],
      "execution_count": 79,
      "outputs": []
    },
    {
      "cell_type": "code",
      "metadata": {
        "id": "40mFB2VWlGtW"
      },
      "source": [
        "from sklearn.preprocessing import normalize"
      ],
      "execution_count": 80,
      "outputs": []
    },
    {
      "cell_type": "code",
      "metadata": {
        "id": "u9h2L0WskxsO"
      },
      "source": [
        "x_normalize = normalize(x,axis=0)"
      ],
      "execution_count": 81,
      "outputs": []
    },
    {
      "cell_type": "code",
      "metadata": {
        "id": "JujH0PAXfiwP"
      },
      "source": [
        "from sklearn.model_selection import train_test_split"
      ],
      "execution_count": 82,
      "outputs": []
    },
    {
      "cell_type": "code",
      "metadata": {
        "id": "5sgiVYXKfiz8"
      },
      "source": [
        "x_train,x_test,y_train,y_test = train_test_split(x_normalize,y,test_size=0.2)"
      ],
      "execution_count": 83,
      "outputs": []
    },
    {
      "cell_type": "code",
      "metadata": {
        "colab": {
          "base_uri": "https://localhost:8080/"
        },
        "id": "bf0JkOn5kgoM",
        "outputId": "8597e841-9a58-45ba-e4be-9bda93c719f5"
      },
      "source": [
        "y_test.shape[0]"
      ],
      "execution_count": 88,
      "outputs": [
        {
          "output_type": "execute_result",
          "data": {
            "text/plain": [
              "30"
            ]
          },
          "metadata": {
            "tags": []
          },
          "execution_count": 88
        }
      ]
    },
    {
      "cell_type": "code",
      "metadata": {
        "colab": {
          "base_uri": "https://localhost:8080/"
        },
        "id": "0yckkwpDkgqL",
        "outputId": "f4342218-28c6-4fe2-de07-d270dd10daf2"
      },
      "source": [
        "print(x_train.shape)\n",
        "print(y_train.shape)"
      ],
      "execution_count": 89,
      "outputs": [
        {
          "output_type": "stream",
          "text": [
            "(120, 4)\n",
            "(120,)\n"
          ],
          "name": "stdout"
        }
      ]
    },
    {
      "cell_type": "code",
      "metadata": {
        "colab": {
          "base_uri": "https://localhost:8080/"
        },
        "id": "1_3omOVckgr6",
        "outputId": "8e5d3f55-00a7-40d4-b7ed-81c44e93999d"
      },
      "source": [
        "print(x_test.shape)\n",
        "print(y_test.shape)"
      ],
      "execution_count": 90,
      "outputs": [
        {
          "output_type": "stream",
          "text": [
            "(30, 4)\n",
            "(30,)\n"
          ],
          "name": "stdout"
        }
      ]
    },
    {
      "cell_type": "code",
      "metadata": {
        "id": "NvFNpCjOkgui"
      },
      "source": [
        "#one hot encoding\n",
        "from keras.layers import Dense,Dropout,Activation\n",
        "from keras.layers.normalization import BatchNormalization\n",
        "from keras.models import Sequential\n",
        "from keras.utils import np_utils"
      ],
      "execution_count": 91,
      "outputs": []
    },
    {
      "cell_type": "code",
      "metadata": {
        "id": "EQKnOUHKkgx8"
      },
      "source": [
        "y_train = np_utils.to_categorical(y_train, num_classes=3)\n",
        "y_test = np_utils.to_categorical(y_test,num_classes=3)"
      ],
      "execution_count": 92,
      "outputs": []
    },
    {
      "cell_type": "code",
      "metadata": {
        "colab": {
          "base_uri": "https://localhost:8080/"
        },
        "id": "agg_ugLukg1R",
        "outputId": "7fe650ac-0656-45fe-c0a6-ef36a545f686"
      },
      "source": [
        "y_test.shape"
      ],
      "execution_count": 94,
      "outputs": [
        {
          "output_type": "execute_result",
          "data": {
            "text/plain": [
              "(30, 3)"
            ]
          },
          "metadata": {
            "tags": []
          },
          "execution_count": 94
        }
      ]
    },
    {
      "cell_type": "code",
      "metadata": {
        "id": "bIX2xcH0n3Xd"
      },
      "source": [
        "model = Sequential()\n",
        "model.add(Dense(256,activation='relu',input_dim=4))\n",
        "model.add(Dense(64,activation='relu'))\n",
        "model.add(Dense(32,activation='relu'))\n",
        "\n",
        "model.add(Dropout(rate=0.75))\n",
        "model.add(Dense(3,activation='softmax'))"
      ],
      "execution_count": 126,
      "outputs": []
    },
    {
      "cell_type": "code",
      "metadata": {
        "colab": {
          "base_uri": "https://localhost:8080/"
        },
        "id": "uhIrJO5npvGC",
        "outputId": "4b0fbd63-0f88-4346-885c-4ce070fc8454"
      },
      "source": [
        "model.summary()"
      ],
      "execution_count": 127,
      "outputs": [
        {
          "output_type": "stream",
          "text": [
            "Model: \"sequential_7\"\n",
            "_________________________________________________________________\n",
            "Layer (type)                 Output Shape              Param #   \n",
            "=================================================================\n",
            "dense_23 (Dense)             (None, 256)               1280      \n",
            "_________________________________________________________________\n",
            "dense_24 (Dense)             (None, 64)                16448     \n",
            "_________________________________________________________________\n",
            "dense_25 (Dense)             (None, 32)                2080      \n",
            "_________________________________________________________________\n",
            "dropout_6 (Dropout)          (None, 32)                0         \n",
            "_________________________________________________________________\n",
            "dense_26 (Dense)             (None, 3)                 99        \n",
            "=================================================================\n",
            "Total params: 19,907\n",
            "Trainable params: 19,907\n",
            "Non-trainable params: 0\n",
            "_________________________________________________________________\n"
          ],
          "name": "stdout"
        }
      ]
    },
    {
      "cell_type": "code",
      "metadata": {
        "id": "yT5V7Bgon3l-"
      },
      "source": [
        "model.compile(optimizer='adam',loss='categorical_crossentropy', metrics='accuracy')"
      ],
      "execution_count": 128,
      "outputs": []
    },
    {
      "cell_type": "code",
      "metadata": {
        "colab": {
          "base_uri": "https://localhost:8080/"
        },
        "id": "ZLPz0Wzdn3n5",
        "outputId": "0dda3c46-1bce-410f-cef8-7646ba93a721"
      },
      "source": [
        "model.fit(x_train, y_train, validation_data=(x_test,y_test) , batch_size=60 ,epochs=15,verbose=1)"
      ],
      "execution_count": 130,
      "outputs": [
        {
          "output_type": "stream",
          "text": [
            "Epoch 1/15\n",
            "2/2 [==============================] - 0s 91ms/step - loss: 0.9903 - accuracy: 0.5917 - val_loss: 0.9926 - val_accuracy: 0.6667\n",
            "Epoch 2/15\n",
            "2/2 [==============================] - 0s 39ms/step - loss: 1.0018 - accuracy: 0.6167 - val_loss: 0.9816 - val_accuracy: 0.6667\n",
            "Epoch 3/15\n",
            "2/2 [==============================] - 0s 41ms/step - loss: 0.9869 - accuracy: 0.5833 - val_loss: 0.9692 - val_accuracy: 0.6667\n",
            "Epoch 4/15\n",
            "2/2 [==============================] - 0s 39ms/step - loss: 0.9613 - accuracy: 0.6083 - val_loss: 0.9563 - val_accuracy: 0.6667\n",
            "Epoch 5/15\n",
            "2/2 [==============================] - 0s 44ms/step - loss: 0.9577 - accuracy: 0.6000 - val_loss: 0.9453 - val_accuracy: 0.6667\n",
            "Epoch 6/15\n",
            "2/2 [==============================] - 0s 46ms/step - loss: 0.9561 - accuracy: 0.6250 - val_loss: 0.9329 - val_accuracy: 0.6667\n",
            "Epoch 7/15\n",
            "2/2 [==============================] - 0s 40ms/step - loss: 0.9637 - accuracy: 0.5500 - val_loss: 0.9172 - val_accuracy: 0.8000\n",
            "Epoch 8/15\n",
            "2/2 [==============================] - 0s 42ms/step - loss: 0.9218 - accuracy: 0.6583 - val_loss: 0.9001 - val_accuracy: 0.8333\n",
            "Epoch 9/15\n",
            "2/2 [==============================] - 0s 43ms/step - loss: 0.9324 - accuracy: 0.6333 - val_loss: 0.8826 - val_accuracy: 0.8667\n",
            "Epoch 10/15\n",
            "2/2 [==============================] - 0s 46ms/step - loss: 0.8883 - accuracy: 0.6417 - val_loss: 0.8655 - val_accuracy: 0.9333\n",
            "Epoch 11/15\n",
            "2/2 [==============================] - 0s 49ms/step - loss: 0.8757 - accuracy: 0.6917 - val_loss: 0.8474 - val_accuracy: 0.9333\n",
            "Epoch 12/15\n",
            "2/2 [==============================] - 0s 46ms/step - loss: 0.8425 - accuracy: 0.6833 - val_loss: 0.8300 - val_accuracy: 0.9333\n",
            "Epoch 13/15\n",
            "2/2 [==============================] - 0s 45ms/step - loss: 0.8468 - accuracy: 0.6667 - val_loss: 0.8128 - val_accuracy: 0.9667\n",
            "Epoch 14/15\n",
            "2/2 [==============================] - 0s 45ms/step - loss: 0.8033 - accuracy: 0.6500 - val_loss: 0.7900 - val_accuracy: 0.9667\n",
            "Epoch 15/15\n",
            "2/2 [==============================] - 0s 50ms/step - loss: 0.8235 - accuracy: 0.6417 - val_loss: 0.7670 - val_accuracy: 0.9667\n"
          ],
          "name": "stdout"
        },
        {
          "output_type": "execute_result",
          "data": {
            "text/plain": [
              "<tensorflow.python.keras.callbacks.History at 0x7fdcc1cf75d0>"
            ]
          },
          "metadata": {
            "tags": []
          },
          "execution_count": 130
        }
      ]
    },
    {
      "cell_type": "code",
      "metadata": {
        "colab": {
          "base_uri": "https://localhost:8080/"
        },
        "id": "QdeebZOAn3q4",
        "outputId": "f9cbb791-4cdf-4bbf-a864-1d10dd49c948"
      },
      "source": [
        "prediction = model.predict(x_test)\n",
        "pred_len = len(prediction)\n",
        "y_label = np.argmax(y_test,axis=1)\n",
        "predict_label = np.argmax(prediction,axis=1)\n",
        "acc = np.sum((y_label==predict_label)/pred_len*100)\n",
        "print('accuray:', acc)\n"
      ],
      "execution_count": 133,
      "outputs": [
        {
          "output_type": "stream",
          "text": [
            "accuray: 96.66666666666664\n"
          ],
          "name": "stdout"
        }
      ]
    },
    {
      "cell_type": "code",
      "metadata": {
        "colab": {
          "base_uri": "https://localhost:8080/"
        },
        "id": "CkRMTfRbn3uA",
        "outputId": "a684111c-fc3a-4f97-c7b6-773771804746"
      },
      "source": [
        "model1 = Sequential()\n",
        "model1.add(Dense(256,activation='relu',input_dim=4))\n",
        "model1.add(Dense(64,activation='softmax'))\n",
        "model1.add(Dense(32,activation='sigmoid'))\n",
        "\n",
        "model1.add(Dropout(rate=0.75))\n",
        "model1.add(Dense(3,activation='softmax'))\n",
        "model1.compile(optimizer='adam',loss='categorical_crossentropy', metrics='accuracy')\n",
        "model1.summary()"
      ],
      "execution_count": 134,
      "outputs": [
        {
          "output_type": "stream",
          "text": [
            "Model: \"sequential_8\"\n",
            "_________________________________________________________________\n",
            "Layer (type)                 Output Shape              Param #   \n",
            "=================================================================\n",
            "dense_27 (Dense)             (None, 256)               1280      \n",
            "_________________________________________________________________\n",
            "dense_28 (Dense)             (None, 64)                16448     \n",
            "_________________________________________________________________\n",
            "dense_29 (Dense)             (None, 32)                2080      \n",
            "_________________________________________________________________\n",
            "dropout_7 (Dropout)          (None, 32)                0         \n",
            "_________________________________________________________________\n",
            "dense_30 (Dense)             (None, 3)                 99        \n",
            "=================================================================\n",
            "Total params: 19,907\n",
            "Trainable params: 19,907\n",
            "Non-trainable params: 0\n",
            "_________________________________________________________________\n"
          ],
          "name": "stdout"
        }
      ]
    },
    {
      "cell_type": "code",
      "metadata": {
        "id": "P4oJnH75vtp-"
      },
      "source": [
        "import keras"
      ],
      "execution_count": 136,
      "outputs": []
    },
    {
      "cell_type": "code",
      "metadata": {
        "colab": {
          "base_uri": "https://localhost:8080/"
        },
        "id": "4NHGnGrEn3xh",
        "outputId": "48519d1f-4697-403e-f18f-b4fb7589b7c7"
      },
      "source": [
        "early_stop = keras.callbacks.EarlyStopping(monitor='val_acc', patience=10)\n",
        "\n",
        "history = model1.fit(x_train, y_train, validation_data=(x_test,y_test) , epochs=100,verbose=1, callbacks=[early_stop])"
      ],
      "execution_count": 140,
      "outputs": [
        {
          "output_type": "stream",
          "text": [
            "Epoch 1/100\n",
            "4/4 [==============================] - 0s 32ms/step - loss: 0.6503 - accuracy: 0.6667 - val_loss: 0.6028 - val_accuracy: 0.6000\n",
            "WARNING:tensorflow:Early stopping conditioned on metric `val_acc` which is not available. Available metrics are: loss,accuracy,val_loss,val_accuracy\n",
            "Epoch 2/100\n",
            "4/4 [==============================] - 0s 17ms/step - loss: 0.6607 - accuracy: 0.6333 - val_loss: 0.6013 - val_accuracy: 0.6000\n",
            "WARNING:tensorflow:Early stopping conditioned on metric `val_acc` which is not available. Available metrics are: loss,accuracy,val_loss,val_accuracy\n",
            "Epoch 3/100\n",
            "4/4 [==============================] - 0s 16ms/step - loss: 0.6495 - accuracy: 0.6250 - val_loss: 0.6002 - val_accuracy: 0.6000\n",
            "WARNING:tensorflow:Early stopping conditioned on metric `val_acc` which is not available. Available metrics are: loss,accuracy,val_loss,val_accuracy\n",
            "Epoch 4/100\n",
            "4/4 [==============================] - 0s 15ms/step - loss: 0.6763 - accuracy: 0.6583 - val_loss: 0.5989 - val_accuracy: 0.6000\n",
            "WARNING:tensorflow:Early stopping conditioned on metric `val_acc` which is not available. Available metrics are: loss,accuracy,val_loss,val_accuracy\n",
            "Epoch 5/100\n",
            "4/4 [==============================] - 0s 15ms/step - loss: 0.6423 - accuracy: 0.6000 - val_loss: 0.5972 - val_accuracy: 0.6000\n",
            "WARNING:tensorflow:Early stopping conditioned on metric `val_acc` which is not available. Available metrics are: loss,accuracy,val_loss,val_accuracy\n",
            "Epoch 6/100\n",
            "4/4 [==============================] - 0s 15ms/step - loss: 0.6495 - accuracy: 0.6083 - val_loss: 0.5954 - val_accuracy: 0.6000\n",
            "WARNING:tensorflow:Early stopping conditioned on metric `val_acc` which is not available. Available metrics are: loss,accuracy,val_loss,val_accuracy\n",
            "Epoch 7/100\n",
            "4/4 [==============================] - 0s 16ms/step - loss: 0.6935 - accuracy: 0.6000 - val_loss: 0.5938 - val_accuracy: 0.6000\n",
            "WARNING:tensorflow:Early stopping conditioned on metric `val_acc` which is not available. Available metrics are: loss,accuracy,val_loss,val_accuracy\n",
            "Epoch 8/100\n",
            "4/4 [==============================] - 0s 15ms/step - loss: 0.6305 - accuracy: 0.6333 - val_loss: 0.5922 - val_accuracy: 0.6000\n",
            "WARNING:tensorflow:Early stopping conditioned on metric `val_acc` which is not available. Available metrics are: loss,accuracy,val_loss,val_accuracy\n",
            "Epoch 9/100\n",
            "4/4 [==============================] - 0s 14ms/step - loss: 0.6813 - accuracy: 0.6000 - val_loss: 0.5911 - val_accuracy: 0.6000\n",
            "WARNING:tensorflow:Early stopping conditioned on metric `val_acc` which is not available. Available metrics are: loss,accuracy,val_loss,val_accuracy\n",
            "Epoch 10/100\n",
            "4/4 [==============================] - 0s 16ms/step - loss: 0.6399 - accuracy: 0.6583 - val_loss: 0.5898 - val_accuracy: 0.6000\n",
            "WARNING:tensorflow:Early stopping conditioned on metric `val_acc` which is not available. Available metrics are: loss,accuracy,val_loss,val_accuracy\n",
            "Epoch 11/100\n",
            "4/4 [==============================] - 0s 15ms/step - loss: 0.6744 - accuracy: 0.6083 - val_loss: 0.5887 - val_accuracy: 0.6000\n",
            "WARNING:tensorflow:Early stopping conditioned on metric `val_acc` which is not available. Available metrics are: loss,accuracy,val_loss,val_accuracy\n",
            "Epoch 12/100\n",
            "4/4 [==============================] - 0s 14ms/step - loss: 0.6348 - accuracy: 0.6417 - val_loss: 0.5878 - val_accuracy: 0.6000\n",
            "WARNING:tensorflow:Early stopping conditioned on metric `val_acc` which is not available. Available metrics are: loss,accuracy,val_loss,val_accuracy\n",
            "Epoch 13/100\n",
            "4/4 [==============================] - 0s 15ms/step - loss: 0.6501 - accuracy: 0.6167 - val_loss: 0.5873 - val_accuracy: 0.6000\n",
            "WARNING:tensorflow:Early stopping conditioned on metric `val_acc` which is not available. Available metrics are: loss,accuracy,val_loss,val_accuracy\n",
            "Epoch 14/100\n",
            "4/4 [==============================] - 0s 14ms/step - loss: 0.6669 - accuracy: 0.6417 - val_loss: 0.5868 - val_accuracy: 0.6000\n",
            "WARNING:tensorflow:Early stopping conditioned on metric `val_acc` which is not available. Available metrics are: loss,accuracy,val_loss,val_accuracy\n",
            "Epoch 15/100\n",
            "4/4 [==============================] - 0s 15ms/step - loss: 0.5831 - accuracy: 0.6583 - val_loss: 0.5861 - val_accuracy: 0.6000\n",
            "WARNING:tensorflow:Early stopping conditioned on metric `val_acc` which is not available. Available metrics are: loss,accuracy,val_loss,val_accuracy\n",
            "Epoch 16/100\n",
            "4/4 [==============================] - 0s 16ms/step - loss: 0.5889 - accuracy: 0.6917 - val_loss: 0.5853 - val_accuracy: 0.6000\n",
            "WARNING:tensorflow:Early stopping conditioned on metric `val_acc` which is not available. Available metrics are: loss,accuracy,val_loss,val_accuracy\n",
            "Epoch 17/100\n",
            "4/4 [==============================] - 0s 17ms/step - loss: 0.6426 - accuracy: 0.6000 - val_loss: 0.5845 - val_accuracy: 0.6000\n",
            "WARNING:tensorflow:Early stopping conditioned on metric `val_acc` which is not available. Available metrics are: loss,accuracy,val_loss,val_accuracy\n",
            "Epoch 18/100\n",
            "4/4 [==============================] - 0s 20ms/step - loss: 0.6324 - accuracy: 0.6667 - val_loss: 0.5839 - val_accuracy: 0.6000\n",
            "WARNING:tensorflow:Early stopping conditioned on metric `val_acc` which is not available. Available metrics are: loss,accuracy,val_loss,val_accuracy\n",
            "Epoch 19/100\n",
            "4/4 [==============================] - 0s 16ms/step - loss: 0.6613 - accuracy: 0.5833 - val_loss: 0.5831 - val_accuracy: 0.6000\n",
            "WARNING:tensorflow:Early stopping conditioned on metric `val_acc` which is not available. Available metrics are: loss,accuracy,val_loss,val_accuracy\n",
            "Epoch 20/100\n",
            "4/4 [==============================] - 0s 15ms/step - loss: 0.5945 - accuracy: 0.6667 - val_loss: 0.5821 - val_accuracy: 0.6000\n",
            "WARNING:tensorflow:Early stopping conditioned on metric `val_acc` which is not available. Available metrics are: loss,accuracy,val_loss,val_accuracy\n",
            "Epoch 21/100\n",
            "4/4 [==============================] - 0s 18ms/step - loss: 0.6250 - accuracy: 0.6750 - val_loss: 0.5811 - val_accuracy: 0.6000\n",
            "WARNING:tensorflow:Early stopping conditioned on metric `val_acc` which is not available. Available metrics are: loss,accuracy,val_loss,val_accuracy\n",
            "Epoch 22/100\n",
            "4/4 [==============================] - 0s 16ms/step - loss: 0.6070 - accuracy: 0.6083 - val_loss: 0.5803 - val_accuracy: 0.6000\n",
            "WARNING:tensorflow:Early stopping conditioned on metric `val_acc` which is not available. Available metrics are: loss,accuracy,val_loss,val_accuracy\n",
            "Epoch 23/100\n",
            "4/4 [==============================] - 0s 17ms/step - loss: 0.6207 - accuracy: 0.6500 - val_loss: 0.5791 - val_accuracy: 0.6000\n",
            "WARNING:tensorflow:Early stopping conditioned on metric `val_acc` which is not available. Available metrics are: loss,accuracy,val_loss,val_accuracy\n",
            "Epoch 24/100\n",
            "4/4 [==============================] - 0s 15ms/step - loss: 0.6323 - accuracy: 0.6000 - val_loss: 0.5779 - val_accuracy: 0.6000\n",
            "WARNING:tensorflow:Early stopping conditioned on metric `val_acc` which is not available. Available metrics are: loss,accuracy,val_loss,val_accuracy\n",
            "Epoch 25/100\n",
            "4/4 [==============================] - 0s 17ms/step - loss: 0.6228 - accuracy: 0.6250 - val_loss: 0.5767 - val_accuracy: 0.6000\n",
            "WARNING:tensorflow:Early stopping conditioned on metric `val_acc` which is not available. Available metrics are: loss,accuracy,val_loss,val_accuracy\n",
            "Epoch 26/100\n",
            "4/4 [==============================] - 0s 17ms/step - loss: 0.6560 - accuracy: 0.6333 - val_loss: 0.5756 - val_accuracy: 0.6000\n",
            "WARNING:tensorflow:Early stopping conditioned on metric `val_acc` which is not available. Available metrics are: loss,accuracy,val_loss,val_accuracy\n",
            "Epoch 27/100\n",
            "4/4 [==============================] - 0s 16ms/step - loss: 0.6282 - accuracy: 0.7417 - val_loss: 0.5744 - val_accuracy: 0.6000\n",
            "WARNING:tensorflow:Early stopping conditioned on metric `val_acc` which is not available. Available metrics are: loss,accuracy,val_loss,val_accuracy\n",
            "Epoch 28/100\n",
            "4/4 [==============================] - 0s 15ms/step - loss: 0.6572 - accuracy: 0.5917 - val_loss: 0.5735 - val_accuracy: 0.6000\n",
            "WARNING:tensorflow:Early stopping conditioned on metric `val_acc` which is not available. Available metrics are: loss,accuracy,val_loss,val_accuracy\n",
            "Epoch 29/100\n",
            "4/4 [==============================] - 0s 15ms/step - loss: 0.6306 - accuracy: 0.6250 - val_loss: 0.5727 - val_accuracy: 0.6000\n",
            "WARNING:tensorflow:Early stopping conditioned on metric `val_acc` which is not available. Available metrics are: loss,accuracy,val_loss,val_accuracy\n",
            "Epoch 30/100\n",
            "4/4 [==============================] - 0s 17ms/step - loss: 0.7346 - accuracy: 0.5750 - val_loss: 0.5719 - val_accuracy: 0.6000\n",
            "WARNING:tensorflow:Early stopping conditioned on metric `val_acc` which is not available. Available metrics are: loss,accuracy,val_loss,val_accuracy\n",
            "Epoch 31/100\n",
            "4/4 [==============================] - 0s 16ms/step - loss: 0.6558 - accuracy: 0.6333 - val_loss: 0.5710 - val_accuracy: 0.6000\n",
            "WARNING:tensorflow:Early stopping conditioned on metric `val_acc` which is not available. Available metrics are: loss,accuracy,val_loss,val_accuracy\n",
            "Epoch 32/100\n",
            "4/4 [==============================] - 0s 16ms/step - loss: 0.6661 - accuracy: 0.5917 - val_loss: 0.5700 - val_accuracy: 0.6000\n",
            "WARNING:tensorflow:Early stopping conditioned on metric `val_acc` which is not available. Available metrics are: loss,accuracy,val_loss,val_accuracy\n",
            "Epoch 33/100\n",
            "4/4 [==============================] - 0s 17ms/step - loss: 0.6211 - accuracy: 0.5917 - val_loss: 0.5691 - val_accuracy: 0.6000\n",
            "WARNING:tensorflow:Early stopping conditioned on metric `val_acc` which is not available. Available metrics are: loss,accuracy,val_loss,val_accuracy\n",
            "Epoch 34/100\n",
            "4/4 [==============================] - 0s 17ms/step - loss: 0.6117 - accuracy: 0.6500 - val_loss: 0.5681 - val_accuracy: 0.6000\n",
            "WARNING:tensorflow:Early stopping conditioned on metric `val_acc` which is not available. Available metrics are: loss,accuracy,val_loss,val_accuracy\n",
            "Epoch 35/100\n",
            "4/4 [==============================] - 0s 17ms/step - loss: 0.6253 - accuracy: 0.6167 - val_loss: 0.5672 - val_accuracy: 0.6000\n",
            "WARNING:tensorflow:Early stopping conditioned on metric `val_acc` which is not available. Available metrics are: loss,accuracy,val_loss,val_accuracy\n",
            "Epoch 36/100\n",
            "4/4 [==============================] - 0s 18ms/step - loss: 0.6410 - accuracy: 0.6500 - val_loss: 0.5666 - val_accuracy: 0.6000\n",
            "WARNING:tensorflow:Early stopping conditioned on metric `val_acc` which is not available. Available metrics are: loss,accuracy,val_loss,val_accuracy\n",
            "Epoch 37/100\n",
            "4/4 [==============================] - 0s 17ms/step - loss: 0.5954 - accuracy: 0.5167 - val_loss: 0.5660 - val_accuracy: 0.6000\n",
            "WARNING:tensorflow:Early stopping conditioned on metric `val_acc` which is not available. Available metrics are: loss,accuracy,val_loss,val_accuracy\n",
            "Epoch 38/100\n",
            "4/4 [==============================] - 0s 19ms/step - loss: 0.6527 - accuracy: 0.6333 - val_loss: 0.5650 - val_accuracy: 0.6000\n",
            "WARNING:tensorflow:Early stopping conditioned on metric `val_acc` which is not available. Available metrics are: loss,accuracy,val_loss,val_accuracy\n",
            "Epoch 39/100\n",
            "4/4 [==============================] - 0s 17ms/step - loss: 0.5926 - accuracy: 0.6500 - val_loss: 0.5644 - val_accuracy: 0.6000\n",
            "WARNING:tensorflow:Early stopping conditioned on metric `val_acc` which is not available. Available metrics are: loss,accuracy,val_loss,val_accuracy\n",
            "Epoch 40/100\n",
            "4/4 [==============================] - 0s 16ms/step - loss: 0.6115 - accuracy: 0.6083 - val_loss: 0.5639 - val_accuracy: 0.6000\n",
            "WARNING:tensorflow:Early stopping conditioned on metric `val_acc` which is not available. Available metrics are: loss,accuracy,val_loss,val_accuracy\n",
            "Epoch 41/100\n",
            "4/4 [==============================] - 0s 18ms/step - loss: 0.5939 - accuracy: 0.6500 - val_loss: 0.5634 - val_accuracy: 0.6000\n",
            "WARNING:tensorflow:Early stopping conditioned on metric `val_acc` which is not available. Available metrics are: loss,accuracy,val_loss,val_accuracy\n",
            "Epoch 42/100\n",
            "4/4 [==============================] - 0s 16ms/step - loss: 0.5595 - accuracy: 0.7000 - val_loss: 0.5626 - val_accuracy: 0.6000\n",
            "WARNING:tensorflow:Early stopping conditioned on metric `val_acc` which is not available. Available metrics are: loss,accuracy,val_loss,val_accuracy\n",
            "Epoch 43/100\n",
            "4/4 [==============================] - 0s 15ms/step - loss: 0.6378 - accuracy: 0.6000 - val_loss: 0.5617 - val_accuracy: 0.6000\n",
            "WARNING:tensorflow:Early stopping conditioned on metric `val_acc` which is not available. Available metrics are: loss,accuracy,val_loss,val_accuracy\n",
            "Epoch 44/100\n",
            "4/4 [==============================] - 0s 16ms/step - loss: 0.5842 - accuracy: 0.6833 - val_loss: 0.5610 - val_accuracy: 0.6000\n",
            "WARNING:tensorflow:Early stopping conditioned on metric `val_acc` which is not available. Available metrics are: loss,accuracy,val_loss,val_accuracy\n",
            "Epoch 45/100\n",
            "4/4 [==============================] - 0s 15ms/step - loss: 0.5952 - accuracy: 0.6333 - val_loss: 0.5603 - val_accuracy: 0.6000\n",
            "WARNING:tensorflow:Early stopping conditioned on metric `val_acc` which is not available. Available metrics are: loss,accuracy,val_loss,val_accuracy\n",
            "Epoch 46/100\n",
            "4/4 [==============================] - 0s 16ms/step - loss: 0.6485 - accuracy: 0.5750 - val_loss: 0.5600 - val_accuracy: 0.6000\n",
            "WARNING:tensorflow:Early stopping conditioned on metric `val_acc` which is not available. Available metrics are: loss,accuracy,val_loss,val_accuracy\n",
            "Epoch 47/100\n",
            "4/4 [==============================] - 0s 18ms/step - loss: 0.6284 - accuracy: 0.6750 - val_loss: 0.5593 - val_accuracy: 0.6000\n",
            "WARNING:tensorflow:Early stopping conditioned on metric `val_acc` which is not available. Available metrics are: loss,accuracy,val_loss,val_accuracy\n",
            "Epoch 48/100\n",
            "4/4 [==============================] - 0s 18ms/step - loss: 0.6176 - accuracy: 0.6083 - val_loss: 0.5586 - val_accuracy: 0.6000\n",
            "WARNING:tensorflow:Early stopping conditioned on metric `val_acc` which is not available. Available metrics are: loss,accuracy,val_loss,val_accuracy\n",
            "Epoch 49/100\n",
            "4/4 [==============================] - 0s 17ms/step - loss: 0.6049 - accuracy: 0.5917 - val_loss: 0.5584 - val_accuracy: 0.6000\n",
            "WARNING:tensorflow:Early stopping conditioned on metric `val_acc` which is not available. Available metrics are: loss,accuracy,val_loss,val_accuracy\n",
            "Epoch 50/100\n",
            "4/4 [==============================] - 0s 15ms/step - loss: 0.6420 - accuracy: 0.6167 - val_loss: 0.5584 - val_accuracy: 0.6000\n",
            "WARNING:tensorflow:Early stopping conditioned on metric `val_acc` which is not available. Available metrics are: loss,accuracy,val_loss,val_accuracy\n",
            "Epoch 51/100\n",
            "4/4 [==============================] - 0s 15ms/step - loss: 0.5904 - accuracy: 0.6833 - val_loss: 0.5582 - val_accuracy: 0.6000\n",
            "WARNING:tensorflow:Early stopping conditioned on metric `val_acc` which is not available. Available metrics are: loss,accuracy,val_loss,val_accuracy\n",
            "Epoch 52/100\n",
            "4/4 [==============================] - 0s 20ms/step - loss: 0.6441 - accuracy: 0.5833 - val_loss: 0.5579 - val_accuracy: 0.6000\n",
            "WARNING:tensorflow:Early stopping conditioned on metric `val_acc` which is not available. Available metrics are: loss,accuracy,val_loss,val_accuracy\n",
            "Epoch 53/100\n",
            "4/4 [==============================] - 0s 19ms/step - loss: 0.6635 - accuracy: 0.6083 - val_loss: 0.5573 - val_accuracy: 0.6000\n",
            "WARNING:tensorflow:Early stopping conditioned on metric `val_acc` which is not available. Available metrics are: loss,accuracy,val_loss,val_accuracy\n",
            "Epoch 54/100\n",
            "4/4 [==============================] - 0s 20ms/step - loss: 0.6219 - accuracy: 0.6250 - val_loss: 0.5568 - val_accuracy: 0.6000\n",
            "WARNING:tensorflow:Early stopping conditioned on metric `val_acc` which is not available. Available metrics are: loss,accuracy,val_loss,val_accuracy\n",
            "Epoch 55/100\n",
            "4/4 [==============================] - 0s 16ms/step - loss: 0.6215 - accuracy: 0.5833 - val_loss: 0.5564 - val_accuracy: 0.6000\n",
            "WARNING:tensorflow:Early stopping conditioned on metric `val_acc` which is not available. Available metrics are: loss,accuracy,val_loss,val_accuracy\n",
            "Epoch 56/100\n",
            "4/4 [==============================] - 0s 15ms/step - loss: 0.6074 - accuracy: 0.6833 - val_loss: 0.5564 - val_accuracy: 0.6000\n",
            "WARNING:tensorflow:Early stopping conditioned on metric `val_acc` which is not available. Available metrics are: loss,accuracy,val_loss,val_accuracy\n",
            "Epoch 57/100\n",
            "4/4 [==============================] - 0s 16ms/step - loss: 0.6270 - accuracy: 0.6167 - val_loss: 0.5562 - val_accuracy: 0.6000\n",
            "WARNING:tensorflow:Early stopping conditioned on metric `val_acc` which is not available. Available metrics are: loss,accuracy,val_loss,val_accuracy\n",
            "Epoch 58/100\n",
            "4/4 [==============================] - 0s 16ms/step - loss: 0.5659 - accuracy: 0.6667 - val_loss: 0.5559 - val_accuracy: 0.6000\n",
            "WARNING:tensorflow:Early stopping conditioned on metric `val_acc` which is not available. Available metrics are: loss,accuracy,val_loss,val_accuracy\n",
            "Epoch 59/100\n",
            "4/4 [==============================] - 0s 15ms/step - loss: 0.5963 - accuracy: 0.6167 - val_loss: 0.5554 - val_accuracy: 0.6000\n",
            "WARNING:tensorflow:Early stopping conditioned on metric `val_acc` which is not available. Available metrics are: loss,accuracy,val_loss,val_accuracy\n",
            "Epoch 60/100\n",
            "4/4 [==============================] - 0s 20ms/step - loss: 0.5964 - accuracy: 0.6750 - val_loss: 0.5548 - val_accuracy: 0.6000\n",
            "WARNING:tensorflow:Early stopping conditioned on metric `val_acc` which is not available. Available metrics are: loss,accuracy,val_loss,val_accuracy\n",
            "Epoch 61/100\n",
            "4/4 [==============================] - 0s 17ms/step - loss: 0.5981 - accuracy: 0.6500 - val_loss: 0.5541 - val_accuracy: 0.6000\n",
            "WARNING:tensorflow:Early stopping conditioned on metric `val_acc` which is not available. Available metrics are: loss,accuracy,val_loss,val_accuracy\n",
            "Epoch 62/100\n",
            "4/4 [==============================] - 0s 17ms/step - loss: 0.5674 - accuracy: 0.6250 - val_loss: 0.5534 - val_accuracy: 0.6000\n",
            "WARNING:tensorflow:Early stopping conditioned on metric `val_acc` which is not available. Available metrics are: loss,accuracy,val_loss,val_accuracy\n",
            "Epoch 63/100\n",
            "4/4 [==============================] - 0s 17ms/step - loss: 0.6077 - accuracy: 0.6000 - val_loss: 0.5530 - val_accuracy: 0.6000\n",
            "WARNING:tensorflow:Early stopping conditioned on metric `val_acc` which is not available. Available metrics are: loss,accuracy,val_loss,val_accuracy\n",
            "Epoch 64/100\n",
            "4/4 [==============================] - 0s 17ms/step - loss: 0.5652 - accuracy: 0.6917 - val_loss: 0.5530 - val_accuracy: 0.6000\n",
            "WARNING:tensorflow:Early stopping conditioned on metric `val_acc` which is not available. Available metrics are: loss,accuracy,val_loss,val_accuracy\n",
            "Epoch 65/100\n",
            "4/4 [==============================] - 0s 19ms/step - loss: 0.5668 - accuracy: 0.6833 - val_loss: 0.5525 - val_accuracy: 0.6000\n",
            "WARNING:tensorflow:Early stopping conditioned on metric `val_acc` which is not available. Available metrics are: loss,accuracy,val_loss,val_accuracy\n",
            "Epoch 66/100\n",
            "4/4 [==============================] - 0s 17ms/step - loss: 0.5983 - accuracy: 0.6167 - val_loss: 0.5517 - val_accuracy: 0.6000\n",
            "WARNING:tensorflow:Early stopping conditioned on metric `val_acc` which is not available. Available metrics are: loss,accuracy,val_loss,val_accuracy\n",
            "Epoch 67/100\n",
            "4/4 [==============================] - 0s 19ms/step - loss: 0.6236 - accuracy: 0.6000 - val_loss: 0.5509 - val_accuracy: 0.6000\n",
            "WARNING:tensorflow:Early stopping conditioned on metric `val_acc` which is not available. Available metrics are: loss,accuracy,val_loss,val_accuracy\n",
            "Epoch 68/100\n",
            "4/4 [==============================] - 0s 17ms/step - loss: 0.6160 - accuracy: 0.6583 - val_loss: 0.5502 - val_accuracy: 0.6000\n",
            "WARNING:tensorflow:Early stopping conditioned on metric `val_acc` which is not available. Available metrics are: loss,accuracy,val_loss,val_accuracy\n",
            "Epoch 69/100\n",
            "4/4 [==============================] - 0s 19ms/step - loss: 0.5987 - accuracy: 0.6750 - val_loss: 0.5492 - val_accuracy: 0.6000\n",
            "WARNING:tensorflow:Early stopping conditioned on metric `val_acc` which is not available. Available metrics are: loss,accuracy,val_loss,val_accuracy\n",
            "Epoch 70/100\n",
            "4/4 [==============================] - 0s 17ms/step - loss: 0.5651 - accuracy: 0.7167 - val_loss: 0.5485 - val_accuracy: 0.6000\n",
            "WARNING:tensorflow:Early stopping conditioned on metric `val_acc` which is not available. Available metrics are: loss,accuracy,val_loss,val_accuracy\n",
            "Epoch 71/100\n",
            "4/4 [==============================] - 0s 16ms/step - loss: 0.5751 - accuracy: 0.6333 - val_loss: 0.5481 - val_accuracy: 0.6000\n",
            "WARNING:tensorflow:Early stopping conditioned on metric `val_acc` which is not available. Available metrics are: loss,accuracy,val_loss,val_accuracy\n",
            "Epoch 72/100\n",
            "4/4 [==============================] - 0s 18ms/step - loss: 0.6021 - accuracy: 0.6417 - val_loss: 0.5478 - val_accuracy: 0.6000\n",
            "WARNING:tensorflow:Early stopping conditioned on metric `val_acc` which is not available. Available metrics are: loss,accuracy,val_loss,val_accuracy\n",
            "Epoch 73/100\n",
            "4/4 [==============================] - 0s 18ms/step - loss: 0.6066 - accuracy: 0.6583 - val_loss: 0.5473 - val_accuracy: 0.6000\n",
            "WARNING:tensorflow:Early stopping conditioned on metric `val_acc` which is not available. Available metrics are: loss,accuracy,val_loss,val_accuracy\n",
            "Epoch 74/100\n",
            "4/4 [==============================] - 0s 18ms/step - loss: 0.5966 - accuracy: 0.6333 - val_loss: 0.5471 - val_accuracy: 0.6000\n",
            "WARNING:tensorflow:Early stopping conditioned on metric `val_acc` which is not available. Available metrics are: loss,accuracy,val_loss,val_accuracy\n",
            "Epoch 75/100\n",
            "4/4 [==============================] - 0s 18ms/step - loss: 0.5835 - accuracy: 0.6500 - val_loss: 0.5469 - val_accuracy: 0.6000\n",
            "WARNING:tensorflow:Early stopping conditioned on metric `val_acc` which is not available. Available metrics are: loss,accuracy,val_loss,val_accuracy\n",
            "Epoch 76/100\n",
            "4/4 [==============================] - 0s 16ms/step - loss: 0.5961 - accuracy: 0.6583 - val_loss: 0.5464 - val_accuracy: 0.6000\n",
            "WARNING:tensorflow:Early stopping conditioned on metric `val_acc` which is not available. Available metrics are: loss,accuracy,val_loss,val_accuracy\n",
            "Epoch 77/100\n",
            "4/4 [==============================] - 0s 15ms/step - loss: 0.6355 - accuracy: 0.6667 - val_loss: 0.5458 - val_accuracy: 0.6000\n",
            "WARNING:tensorflow:Early stopping conditioned on metric `val_acc` which is not available. Available metrics are: loss,accuracy,val_loss,val_accuracy\n",
            "Epoch 78/100\n",
            "4/4 [==============================] - 0s 16ms/step - loss: 0.5969 - accuracy: 0.6750 - val_loss: 0.5452 - val_accuracy: 0.6000\n",
            "WARNING:tensorflow:Early stopping conditioned on metric `val_acc` which is not available. Available metrics are: loss,accuracy,val_loss,val_accuracy\n",
            "Epoch 79/100\n",
            "4/4 [==============================] - 0s 17ms/step - loss: 0.5975 - accuracy: 0.6417 - val_loss: 0.5446 - val_accuracy: 0.6000\n",
            "WARNING:tensorflow:Early stopping conditioned on metric `val_acc` which is not available. Available metrics are: loss,accuracy,val_loss,val_accuracy\n",
            "Epoch 80/100\n",
            "4/4 [==============================] - 0s 16ms/step - loss: 0.5521 - accuracy: 0.6667 - val_loss: 0.5437 - val_accuracy: 0.6000\n",
            "WARNING:tensorflow:Early stopping conditioned on metric `val_acc` which is not available. Available metrics are: loss,accuracy,val_loss,val_accuracy\n",
            "Epoch 81/100\n",
            "4/4 [==============================] - 0s 16ms/step - loss: 0.6243 - accuracy: 0.6667 - val_loss: 0.5430 - val_accuracy: 0.6000\n",
            "WARNING:tensorflow:Early stopping conditioned on metric `val_acc` which is not available. Available metrics are: loss,accuracy,val_loss,val_accuracy\n",
            "Epoch 82/100\n",
            "4/4 [==============================] - 0s 18ms/step - loss: 0.5591 - accuracy: 0.6417 - val_loss: 0.5427 - val_accuracy: 0.6000\n",
            "WARNING:tensorflow:Early stopping conditioned on metric `val_acc` which is not available. Available metrics are: loss,accuracy,val_loss,val_accuracy\n",
            "Epoch 83/100\n",
            "4/4 [==============================] - 0s 17ms/step - loss: 0.5678 - accuracy: 0.6750 - val_loss: 0.5420 - val_accuracy: 0.6000\n",
            "WARNING:tensorflow:Early stopping conditioned on metric `val_acc` which is not available. Available metrics are: loss,accuracy,val_loss,val_accuracy\n",
            "Epoch 84/100\n",
            "4/4 [==============================] - 0s 18ms/step - loss: 0.5999 - accuracy: 0.6500 - val_loss: 0.5414 - val_accuracy: 0.6000\n",
            "WARNING:tensorflow:Early stopping conditioned on metric `val_acc` which is not available. Available metrics are: loss,accuracy,val_loss,val_accuracy\n",
            "Epoch 85/100\n",
            "4/4 [==============================] - 0s 21ms/step - loss: 0.5579 - accuracy: 0.7250 - val_loss: 0.5409 - val_accuracy: 0.6000\n",
            "WARNING:tensorflow:Early stopping conditioned on metric `val_acc` which is not available. Available metrics are: loss,accuracy,val_loss,val_accuracy\n",
            "Epoch 86/100\n",
            "4/4 [==============================] - 0s 17ms/step - loss: 0.5977 - accuracy: 0.6417 - val_loss: 0.5408 - val_accuracy: 0.6000\n",
            "WARNING:tensorflow:Early stopping conditioned on metric `val_acc` which is not available. Available metrics are: loss,accuracy,val_loss,val_accuracy\n",
            "Epoch 87/100\n",
            "4/4 [==============================] - 0s 20ms/step - loss: 0.5666 - accuracy: 0.6000 - val_loss: 0.5406 - val_accuracy: 0.6000\n",
            "WARNING:tensorflow:Early stopping conditioned on metric `val_acc` which is not available. Available metrics are: loss,accuracy,val_loss,val_accuracy\n",
            "Epoch 88/100\n",
            "4/4 [==============================] - 0s 16ms/step - loss: 0.5528 - accuracy: 0.6167 - val_loss: 0.5403 - val_accuracy: 0.6000\n",
            "WARNING:tensorflow:Early stopping conditioned on metric `val_acc` which is not available. Available metrics are: loss,accuracy,val_loss,val_accuracy\n",
            "Epoch 89/100\n",
            "4/4 [==============================] - 0s 18ms/step - loss: 0.5724 - accuracy: 0.6583 - val_loss: 0.5400 - val_accuracy: 0.6000\n",
            "WARNING:tensorflow:Early stopping conditioned on metric `val_acc` which is not available. Available metrics are: loss,accuracy,val_loss,val_accuracy\n",
            "Epoch 90/100\n",
            "4/4 [==============================] - 0s 17ms/step - loss: 0.6106 - accuracy: 0.5917 - val_loss: 0.5398 - val_accuracy: 0.6000\n",
            "WARNING:tensorflow:Early stopping conditioned on metric `val_acc` which is not available. Available metrics are: loss,accuracy,val_loss,val_accuracy\n",
            "Epoch 91/100\n",
            "4/4 [==============================] - 0s 17ms/step - loss: 0.5911 - accuracy: 0.5833 - val_loss: 0.5397 - val_accuracy: 0.6000\n",
            "WARNING:tensorflow:Early stopping conditioned on metric `val_acc` which is not available. Available metrics are: loss,accuracy,val_loss,val_accuracy\n",
            "Epoch 92/100\n",
            "4/4 [==============================] - 0s 16ms/step - loss: 0.5596 - accuracy: 0.6500 - val_loss: 0.5394 - val_accuracy: 0.6000\n",
            "WARNING:tensorflow:Early stopping conditioned on metric `val_acc` which is not available. Available metrics are: loss,accuracy,val_loss,val_accuracy\n",
            "Epoch 93/100\n",
            "4/4 [==============================] - 0s 19ms/step - loss: 0.6115 - accuracy: 0.6083 - val_loss: 0.5392 - val_accuracy: 0.6000\n",
            "WARNING:tensorflow:Early stopping conditioned on metric `val_acc` which is not available. Available metrics are: loss,accuracy,val_loss,val_accuracy\n",
            "Epoch 94/100\n",
            "4/4 [==============================] - 0s 17ms/step - loss: 0.5487 - accuracy: 0.6250 - val_loss: 0.5389 - val_accuracy: 0.6000\n",
            "WARNING:tensorflow:Early stopping conditioned on metric `val_acc` which is not available. Available metrics are: loss,accuracy,val_loss,val_accuracy\n",
            "Epoch 95/100\n",
            "4/4 [==============================] - 0s 17ms/step - loss: 0.5476 - accuracy: 0.6750 - val_loss: 0.5389 - val_accuracy: 0.6000\n",
            "WARNING:tensorflow:Early stopping conditioned on metric `val_acc` which is not available. Available metrics are: loss,accuracy,val_loss,val_accuracy\n",
            "Epoch 96/100\n",
            "4/4 [==============================] - 0s 17ms/step - loss: 0.5956 - accuracy: 0.6167 - val_loss: 0.5388 - val_accuracy: 0.6000\n",
            "WARNING:tensorflow:Early stopping conditioned on metric `val_acc` which is not available. Available metrics are: loss,accuracy,val_loss,val_accuracy\n",
            "Epoch 97/100\n",
            "4/4 [==============================] - 0s 18ms/step - loss: 0.5980 - accuracy: 0.6417 - val_loss: 0.5386 - val_accuracy: 0.6000\n",
            "WARNING:tensorflow:Early stopping conditioned on metric `val_acc` which is not available. Available metrics are: loss,accuracy,val_loss,val_accuracy\n",
            "Epoch 98/100\n",
            "4/4 [==============================] - 0s 17ms/step - loss: 0.5574 - accuracy: 0.6500 - val_loss: 0.5382 - val_accuracy: 0.6000\n",
            "WARNING:tensorflow:Early stopping conditioned on metric `val_acc` which is not available. Available metrics are: loss,accuracy,val_loss,val_accuracy\n",
            "Epoch 99/100\n",
            "4/4 [==============================] - 0s 18ms/step - loss: 0.5660 - accuracy: 0.6833 - val_loss: 0.5377 - val_accuracy: 0.6000\n",
            "WARNING:tensorflow:Early stopping conditioned on metric `val_acc` which is not available. Available metrics are: loss,accuracy,val_loss,val_accuracy\n",
            "Epoch 100/100\n",
            "4/4 [==============================] - 0s 19ms/step - loss: 0.5797 - accuracy: 0.6500 - val_loss: 0.5372 - val_accuracy: 0.6000\n",
            "WARNING:tensorflow:Early stopping conditioned on metric `val_acc` which is not available. Available metrics are: loss,accuracy,val_loss,val_accuracy\n"
          ],
          "name": "stdout"
        }
      ]
    },
    {
      "cell_type": "code",
      "metadata": {
        "colab": {
          "base_uri": "https://localhost:8080/"
        },
        "id": "pPpmNLnjn31J",
        "outputId": "6c58ee29-2979-4891-d8d7-c4f6fe8e81e7"
      },
      "source": [
        "prediction1 = model1.predict(x_test)\n",
        "pred_len1 = len(prediction1)\n",
        "y_label1 = np.argmax(y_test,axis=1)\n",
        "predict_label1 = np.argmax(prediction,axis=1)\n",
        "acc1 = np.sum((y_label1==predict_label1)/pred_len1*100)\n",
        "print('accuray:', acc1)\n"
      ],
      "execution_count": 141,
      "outputs": [
        {
          "output_type": "stream",
          "text": [
            "accuray: 96.66666666666664\n"
          ],
          "name": "stdout"
        }
      ]
    },
    {
      "cell_type": "code",
      "metadata": {
        "id": "Sa8rezTOwetS"
      },
      "source": [
        ""
      ],
      "execution_count": null,
      "outputs": []
    },
    {
      "cell_type": "code",
      "metadata": {
        "id": "rMUXavARwevY"
      },
      "source": [
        ""
      ],
      "execution_count": null,
      "outputs": []
    },
    {
      "cell_type": "code",
      "metadata": {
        "id": "jRWJRgDuwezL"
      },
      "source": [
        ""
      ],
      "execution_count": null,
      "outputs": []
    }
  ]
}